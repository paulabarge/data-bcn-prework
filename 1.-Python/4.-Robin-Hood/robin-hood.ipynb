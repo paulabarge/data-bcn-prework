{
 "cells": [
  {
   "cell_type": "markdown",
   "metadata": {},
   "source": [
    "<img src=\"https://bit.ly/2VnXWr2\" width=\"100\" align=\"left\"/>"
   ]
  },
  {
   "cell_type": "markdown",
   "metadata": {},
   "source": [
    "# Robin Hood\n",
    "Robin Hood has entered a competition to win the archery contest in Sherwood. With his bow and arrows, he needs to shoot on a target and try to hit as close as possible to the center.\n",
    "\n",
    "![](images/arrows.jpg)\n",
    "\n",
    "## Context\n",
    "In this challenge, the landing position of arrows shot by archers in the competition will be represented using 2-dimensional coordinates. \n",
    "\n",
    "In the 2-dimensional space, a point can be defined by a pair of values that correspond to the horizontal coordinate (x) and the vertical coordinate (y). For example, in our case, an arrow that hits the center of the archery target will land in position (0, 0) on the coordinate axes. \n",
    "\n",
    "The space can be divided into 4 zones (quadrants): Q1, Q2, Q3, Q4. If a point is in Q1, both its x coordinate and y coordinate are positive. Any point with a null x or y coordinate is considered to not belong to any quadrant. \n",
    "\n",
    "If you want to know more about the cartesian coordinate system, you can check this [link](https://en.wikipedia.org/wiki/Cartesian_coordinate_system). \n",
    "\n",
    "## Tools\n",
    "You don't necessarily need to use all the tools. Maybe you opt to use some of them or completely different ones, they are given to help you shape the exercise. Programming exercises can be solved in many different ways.\n",
    "* Data structures: **lists, sets, tuples**\n",
    "* Conditional statements: **if-elif-else**\n",
    "* Loop: **while/for**\n",
    "* Minimum (optional sorting)\n",
    "\n",
    "## Tasks\n",
    "Robin Hood has hit the following points:"
   ]
  },
  {
   "cell_type": "code",
   "execution_count": 1,
   "metadata": {},
   "outputs": [],
   "source": [
    "points = [(4, 5), (-0, 2), (4, 7), (1, -3), (3, -2), (4, 5), (3, 2), (5, 7), (-5, 7), (2, 2), (-4, 5), (0, -2),\n",
    "          (-4, 7), (-1, 3), (-3, 2), (-4, -5), (-3, 2), (5, 7), (5, 7), (2, 2), (9, 9), (-8, -9)]"
   ]
  },
  {
   "cell_type": "markdown",
   "metadata": {},
   "source": [
    "#### 1. Robin Hood is famous for hitting an arrow with another arrow. Find the coordinates of the points where an arrow hits another arrow."
   ]
  },
  {
   "cell_type": "code",
   "execution_count": 43,
   "metadata": {},
   "outputs": [
    {
     "name": "stdout",
     "output_type": "stream",
     "text": [
      "{(4, 5): 2, (0, 2): 1, (4, 7): 1, (1, -3): 1, (3, -2): 1, (3, 2): 1, (5, 7): 3, (-5, 7): 1, (2, 2): 2, (-4, 5): 1, (0, -2): 1, (-4, 7): 1, (-1, 3): 1, (-3, 2): 2, (-4, -5): 1, (9, 9): 1, (-8, -9): 1}\n",
      "This is the amount of times Robin Hood hit an arrow with another arrow ---> 4\n"
     ]
    }
   ],
   "source": [
    "points = [(4, 5), (-0, 2), (4, 7), (1, -3), (3, -2), (4, 5), (3, 2), (5, 7), (-5, 7), (2, 2), (-4, 5), (0, -2),\n",
    "          (-4, 7), (-1, 3), (-3, 2), (-4, -5), (-3, 2), (5, 7), (5, 7), (2, 2), (9, 9), (-8, -9)]\n",
    "hitting_arrow = dict()\n",
    "\n",
    "for x in points:\n",
    "    if x in hitting_arrow:\n",
    "        hitting_arrow[x] += 1\n",
    "    else:\n",
    "        hitting_arrow[x] = 1 \n",
    "\n",
    "print(hitting_arrow)\n",
    "double_hitting = 0\n",
    "\n",
    "for key,value in hitting_arrow.items():\n",
    "    if value >= 2:\n",
    "        double_hitting += 1\n",
    "\n",
    "print(\"This is the amount of times Robin Hood hit an arrow with another arrow --->\",double_hitting)\n"
   ]
  },
  {
   "cell_type": "markdown",
   "metadata": {},
   "source": [
    "#### 2. Calculate how many arrows have fallen in each quadrant. \n",
    "**Note**: the arrows that fall in the axis (x=0 or y=0) don't belong to any quadrant."
   ]
  },
  {
   "cell_type": "code",
   "execution_count": 59,
   "metadata": {},
   "outputs": [
    {
     "name": "stdout",
     "output_type": "stream",
     "text": [
      "4 , 5  belongs to Quadrant 1\n",
      "0 , -2 Don't belong to any quadrant\n",
      "1 , -3  belongs to Quadrant 4\n",
      "3 , 2  belongs to Quadrant 1\n",
      "5 , 7  belongs to Quadrant 1\n",
      "-5 , 7  belongs to Quadrant 2\n",
      "2 , 2  belongs to Quadrant 1\n",
      "-4 , -5  belongs to Quadrant 3\n",
      "-1 , 3  belongs to Quadrant 2\n",
      "-3 , 2  belongs to Quadrant 2\n",
      "9 , 9  belongs to Quadrant 1\n",
      "-8 , -9  belongs to Quadrant 3\n"
     ]
    }
   ],
   "source": [
    "for x in points:\n",
    "    if x > 0 and points[x] > 0:\n",
    "        print(x,\",\",points[x],\" belongs to Quadrant 1\")\n",
    "    if x < 0 and points[x] > 0:\n",
    "        print(x,\",\",points[x],\" belongs to Quadrant 2\")\n",
    "    if x < 0 and points[x] < 0:\n",
    "        print(x,\",\",points[x],\" belongs to Quadrant 3\")\n",
    "    if x > 0 and points[x] < 0:\n",
    "        print(x,\",\",points[x],\" belongs to Quadrant 4\")\n",
    "    if x == 0 and points[x] == 0:\n",
    "        print(x,\",\",points[x],\"Don't belong to any quadrant\")\n",
    "    if x == 0:\n",
    "        print(x,\",\",points[x],\"Don't belong to any quadrant\")\n",
    "    if y == 0:\n",
    "        print(x,\",\",points[x],\"Don't belong to any quadrant\")"
   ]
  },
  {
   "cell_type": "markdown",
   "metadata": {},
   "source": [
    "#### 3. Find the point closest to the center. Calculate its distance to the center. \n",
    "Take into account that there might be more than one point at the minimum distance to the center.\n",
    "\n",
    "**Hint**: Use the Euclidean distance. You can find more information about it [here](https://en.wikipedia.org/wiki/Euclidean_distance).  \n",
    "**Hint**: Defining a function that calculates the distance to the center can help."
   ]
  },
  {
   "cell_type": "code",
   "execution_count": 68,
   "metadata": {},
   "outputs": [
    {
     "name": "stdout",
     "output_type": "stream",
     "text": [
      "5.0\n",
      "non divisible\n",
      "-3.0\n",
      "2.0\n",
      "7.0\n",
      "7.0\n",
      "2.0\n",
      "-5.0\n",
      "3.0\n",
      "2.0\n",
      "9.0\n",
      "-9.0\n",
      "None\n"
     ]
    }
   ],
   "source": [
    "def calculate_distance():\n",
    "    distance = ()\n",
    "    cumulative_distance = 0\n",
    "    for x in points: \n",
    "        if x == 0:\n",
    "            print(\"non divisible\")\n",
    "        else:\n",
    "            cumulative_distance = print(points[x]-0/x - 0)\n",
    "            \n",
    "print(calculate_distance())"
   ]
  },
  {
   "cell_type": "markdown",
   "metadata": {},
   "source": [
    "#### 4. If the archery target has a radius of 9, calculate the number of arrows that won't hit the target. \n",
    "**Hint**: Use the function created in step 3. "
   ]
  },
  {
   "cell_type": "code",
   "execution_count": 76,
   "metadata": {},
   "outputs": [
    {
     "name": "stdout",
     "output_type": "stream",
     "text": [
      "5.0\n",
      "non divisible\n",
      "-3.0\n",
      "2.0\n",
      "7.0\n",
      "7.0\n",
      "2.0\n",
      "-5.0\n",
      "3.0\n",
      "2.0\n",
      "9.0\n",
      "-9.0\n",
      "Arrow won't hit the target\n",
      "Arrow won't hit the target\n",
      "Arrow won't hit the target\n",
      "Arrow won't hit the target\n"
     ]
    }
   ],
   "source": [
    "radius = list(str(calculate_distance())) \n",
    "\n",
    "for x in radius: \n",
    "    if x >= \"9.0\":\n",
    "        print(\"Arrow won't hit the target\")"
   ]
  },
  {
   "cell_type": "code",
   "execution_count": null,
   "metadata": {},
   "outputs": [],
   "source": []
  }
 ],
 "metadata": {
  "kernelspec": {
   "display_name": "Python 3",
   "language": "python",
   "name": "python3"
  },
  "language_info": {
   "codemirror_mode": {
    "name": "ipython",
    "version": 3
   },
   "file_extension": ".py",
   "mimetype": "text/x-python",
   "name": "python",
   "nbconvert_exporter": "python",
   "pygments_lexer": "ipython3",
   "version": "3.8.2"
  }
 },
 "nbformat": 4,
 "nbformat_minor": 2
}
