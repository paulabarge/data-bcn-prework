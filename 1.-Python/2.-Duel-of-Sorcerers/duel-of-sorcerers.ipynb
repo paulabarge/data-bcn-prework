{
 "cells": [
  {
   "cell_type": "markdown",
   "metadata": {},
   "source": [
    "<img src=\"https://bit.ly/2VnXWr2\" width=\"100\" align=\"left\">"
   ]
  },
  {
   "cell_type": "markdown",
   "metadata": {},
   "source": [
    "# Duel of Sorcerers\n",
    "You are witnessing an epic battle between two powerful sorcerers: Gandalf and Saruman. Each sorcerer has 10 spells of variable power in their mind and they are going to throw them one after the other. The winner of the duel will be the one who wins more of those clashes between spells. Spells are represented as a list of 10 integers whose value equals the power of the spell.\n",
    "```\n",
    "gandalf = [10, 11, 13, 30, 22, 11, 10, 33, 22, 22]\n",
    "saruman = [23, 66, 12, 43, 12, 10, 44, 23, 12, 17]\n",
    "```\n",
    "For example:\n",
    "- The first clash is won by Saruman: 10 against 23.\n",
    "- The second clash is won by Saruman: 11 against 66.\n",
    "- ...\n",
    "\n",
    "You will create two variables, one for each sorcerer, where the sum of clashes won will be stored. Depending on which variable is greater at the end of the duel, you will show one of the following three results on the screen:\n",
    "* Gandalf wins\n",
    "* Saruman wins\n",
    "* Tie\n",
    "\n",
    "<img src=\"images/content_lightning_bolt_big.jpg\" width=\"400\">"
   ]
  },
  {
   "cell_type": "markdown",
   "metadata": {},
   "source": [
    "## Tools\n",
    "You don't necessarily need to use all the tools. Maybe you opt to use some of them or completely different ones, they are given to help you shape the exercise. Programming exercises can be solved in many different ways.\n",
    "\n",
    "1. Data structures: **lists, dictionaries**\n",
    "2. Loop: **for loop**\n",
    "3. Conditional statements: **if-elif-else**\n",
    "4. Functions: **range(), len(), print()**\n",
    "\n",
    "## Tasks\n",
    "\n",
    "#### 1. Create two variables called `gandalf` and `saruman` and assign them the spell power lists. Create a variable called `spells` to store the number of spells that the sorcerers cast. "
   ]
  },
  {
   "cell_type": "code",
   "execution_count": null,
   "metadata": {},
   "outputs": [],
   "source": [
    "#These are the variables \n",
    "gandalf = [10, 11, 13, 30, 22, 11, 10, 33, 22, 22]\n",
    "saruman = [23, 66, 12, 43, 12, 10, 44, 23, 12, 17]\n",
    "cast_of_spells = list(zip(gandalf, saruman))"
   ]
  },
  {
   "cell_type": "markdown",
   "metadata": {},
   "source": [
    "#### 2. Create two variables called `gandalf_wins` and `saruman_wins`. Set both of them to 0. \n",
    "You will use these variables to count the number of clashes each sorcerer wins. "
   ]
  },
  {
   "cell_type": "code",
   "execution_count": null,
   "metadata": {},
   "outputs": [],
   "source": [
    "gandalf_wins = 0\n",
    "saruman_wins = 0"
   ]
  },
  {
   "cell_type": "markdown",
   "metadata": {},
   "source": [
    "#### 3. Using the lists of spells of both sorcerers, update variables `gandalf_wins` and `saruman_wins` to count the number of times each sorcerer wins a clash. "
   ]
  },
  {
   "cell_type": "code",
   "execution_count": 2,
   "metadata": {},
   "outputs": [
    {
     "name": "stdout",
     "output_type": "stream",
     "text": [
      "[(10, 23), (11, 66), (13, 12), (30, 43), (22, 12), (11, 10), (10, 44), (33, 23), (22, 12), (22, 17)]\n",
      "Saruman Wins\n",
      "Saruman Wins\n",
      "Gandalf wins\n",
      "Saruman Wins\n",
      "Gandalf wins\n",
      "Gandalf wins\n",
      "Saruman Wins\n",
      "Gandalf wins\n",
      "Gandalf wins\n",
      "Gandalf wins\n",
      "-> Saruman has won  4 times\n",
      "-> Gandalf has won  6 times\n"
     ]
    }
   ],
   "source": [
    "#These are the variables \n",
    "gandalf = [10, 11, 13, 30, 22, 11, 10, 33, 22, 22]\n",
    "saruman = [23, 66, 12, 43, 12, 10, 44, 23, 12, 17]\n",
    "cast_of_spells = list(zip(gandalf, saruman))\n",
    "print(cast_of_spells)\n",
    "gandalf_wins = 0\n",
    "saruman_wins = 0\n",
    "\n",
    "#Iteration for each of the cast os spells to know who wins using a for loop to update the amount of times they win or loose. \n",
    "for x,y in cast_of_spells:\n",
    "  if x > y:\n",
    "    print(\"Gandalf wins\")\n",
    "  if y > x:\n",
    "    print(\"Saruman Wins\")\n",
    "  if y == x:\n",
    "    print(\"Tie\")\n",
    "  if x > y:\n",
    "    gandalf_wins += 1\n",
    "  if y > x: \n",
    "    saruman_wins += 1\n",
    "\n",
    "#How many times each sorcerer has won\n",
    "print(\"->\"\" \"\"Saruman has won\" \" \" ,saruman_wins, \"times\")\n",
    "print(\"->\"\" \"\"Gandalf has won\" \" \", gandalf_wins, \"times\")"
   ]
  },
  {
   "cell_type": "markdown",
   "metadata": {},
   "source": [
    "#### 4. Who won the battle?\n",
    "Print `Gandalf wins`, `Saruman wins` or `Tie` depending on the result. "
   ]
  },
  {
   "cell_type": "code",
   "execution_count": 3,
   "metadata": {},
   "outputs": [
    {
     "name": "stdout",
     "output_type": "stream",
     "text": [
      "--> Gandalf is the duel winner\n"
     ]
    }
   ],
   "source": [
    "#The overall winner of the duel\n",
    "if saruman_wins > gandalf_wins:\n",
    "  print(\"--> Saruman is the duel winner\")\n",
    "if gandalf_wins > saruman_wins:\n",
    "  print(\"--> Gandalf is the duel winner\")\n",
    "else:\n",
    "  print(\"Tie!\")"
   ]
  },
  {
   "cell_type": "markdown",
   "metadata": {},
   "source": [
    "## Bonus\n",
    "\n",
    "In this bonus challenge, you'll need to check the winner of the battle but this time, a sorcerer wins if he succeeds in winning 3 spell clashes in a row.\n",
    "\n",
    "Also, the spells now have a name and there is a dictionary that associates that name to a power.\n",
    "\n",
    "```\n",
    "POWER = {\n",
    "    'Fireball': 50, \n",
    "    'Lightning bolt': 40, \n",
    "    'Magic arrow': 10, \n",
    "    'Black Tentacles': 25, \n",
    "    'Contagion': 45\n",
    "}\n",
    "\n",
    "gandalf = ['Fireball', 'Lightning bolt', 'Lightning bolt', 'Magic arrow', 'Fireball', \n",
    "           'Magic arrow', 'Lightning bolt', 'Fireball', 'Fireball', 'Fireball']\n",
    "saruman = ['Contagion', 'Contagion', 'Black Tentacles', 'Fireball', 'Black Tentacles', \n",
    "           'Lightning bolt', 'Magic arrow', 'Contagion', 'Magic arrow', 'Magic arrow']\n",
    "```\n",
    "\n",
    "#### 1. Create variables `POWER`, `gandalf` and `saruman` as seen above. Create a variable called `spells` to store the number of spells that the sorcerers cast. "
   ]
  },
  {
   "cell_type": "code",
   "execution_count": 7,
   "metadata": {},
   "outputs": [],
   "source": [
    "POWER = {\n",
    "    'Fireball': 50, \n",
    "    'Lightning bolt': 40, \n",
    "    'Magic arrow': 10, \n",
    "    'Black Tentacles': 25, \n",
    "    'Contagion': 45\n",
    "}\n",
    "gandalf_casts = ['Fireball', 'Lightning bolt', 'Lightning bolt', 'Magic arrow', 'Fireball', 'Magic arrow', 'Lightning bolt', 'Fireball', 'Fireball', 'Fireball']\n",
    "\n",
    "saruman_casts = ['Contagion', 'Contagion', 'Black Tentacles', 'Fireball', 'Black Tentacles', 'Lightning bolt', 'Magic arrow', 'Contagion', 'Magic arrow', 'Magic arrow']\n",
    "gandalf_winning_spells = 0\n",
    "saruman_winning_spells = 0\n",
    "saruman_power = [] \n",
    "gandalf_power = []\n"
   ]
  },
  {
   "cell_type": "markdown",
   "metadata": {},
   "source": [
    "#### 2. Create two variables called `gandalf_wins` and `saruman_wins`. Set both of them to 0. "
   ]
  },
  {
   "cell_type": "code",
   "execution_count": null,
   "metadata": {},
   "outputs": [],
   "source": [
    "gandalf_winning_spells = 0\n",
    "saruman_winning_spells = 0"
   ]
  },
  {
   "cell_type": "markdown",
   "metadata": {},
   "source": [
    "#### 3. Create two variables called `gandalf_power` and `saruman_power` to store the list of spell powers of each sorcerer."
   ]
  },
  {
   "cell_type": "code",
   "execution_count": null,
   "metadata": {},
   "outputs": [],
   "source": [
    "saruman_power = [] \n",
    "gandalf_power = []"
   ]
  },
  {
   "cell_type": "markdown",
   "metadata": {},
   "source": [
    "#### 4. The battle starts! Using the variables you've created above, code the execution of spell clashes. Remember that a sorcerer wins if he succeeds in winning 3 spell clashes in a row. \n",
    "If a clash ends up in a tie, the counter of wins in a row is not restarted to 0. Remember to print who is the winner of the battle. "
   ]
  },
  {
   "cell_type": "code",
   "execution_count": 26,
   "metadata": {},
   "outputs": [
    {
     "name": "stdout",
     "output_type": "stream",
     "text": [
      "Gandalf has 10  spells\n",
      "Saruman has 10  spells\n",
      "- - >This is the power for each Gandalf's Spell [50, 40, 40, 10, 50, 10, 40, 50, 50, 50]\n",
      "- - >This is the power for each Saruman's Spell [45, 45, 25, 50, 25, 40, 10, 45, 10, 10]\n",
      "[(50, 45), (40, 45), (40, 25), (10, 50), (50, 25), (10, 40), (40, 10), (50, 45), (50, 10), (50, 10)]\n",
      "7\n",
      "3\n",
      "['Gandalf', 'Saruman', 'Gandalf', 'Saruman', 'Gandalf', 'Saruman', 'Gandalf', 'Gandalf', 'Gandalf', 'Gandalf']\n",
      "Gandalf\n",
      "Gandalf has won the battle\n"
     ]
    }
   ],
   "source": [
    "POWER = {\n",
    "    'Fireball': 50, \n",
    "    'Lightning bolt': 40, \n",
    "    'Magic arrow': 10, \n",
    "    'Black Tentacles': 25, \n",
    "    'Contagion': 45\n",
    "}\n",
    "gandalf_casts = ['Fireball', 'Lightning bolt', 'Lightning bolt', 'Magic arrow', 'Fireball', 'Magic arrow', 'Lightning bolt', 'Fireball', 'Fireball', 'Fireball']\n",
    "saruman_casts = ['Contagion', 'Contagion', 'Black Tentacles', 'Fireball', 'Black Tentacles', 'Lightning bolt', 'Magic arrow', 'Contagion', 'Magic arrow', 'Magic arrow']\n",
    "gandalf_winning_spells = 0\n",
    "saruman_winning_spells = 0\n",
    "saruman_power = [] \n",
    "gandalf_power = []\n",
    "\n",
    "#proving that the lenght of the two sourceres is equal \n",
    "print(\"Gandalf has\",len(gandalf_casts),\" spells\")\n",
    "print(\"Saruman has\",len(saruman_casts),\" spells\")\n",
    "\n",
    "#creating a variable with the conjuction of the duel spells \n",
    "for cast in gandalf_casts:\n",
    "  for key,value in POWER.items(): \n",
    "    if cast == key:\n",
    "      power = value\n",
    "      gandalf_power.append(power)\n",
    "for cast in saruman_casts:\n",
    "  for key,value in POWER.items():\n",
    "    if cast == key:\n",
    "      power = value\n",
    "      saruman_power.append(power)\n",
    "\n",
    "print(\"- - >This is the power for each Gandalf's Spell\",gandalf_power)\n",
    "print(\"- - >This is the power for each Saruman's Spell\", saruman_power)\n",
    "\n",
    "power_of_spells = list(zip(gandalf_power,saruman_power))\n",
    "winning_strike = []\n",
    "print(power_of_spells)\n",
    "for z,w in power_of_spells:\n",
    "  if z > w:\n",
    "    gandalf_winning_spells += 1\n",
    "    saruman_winning_spells += 0\n",
    "    winning_strike.append(\"Gandalf\")\n",
    "  if w > z:\n",
    "    saruman_winning_spells += 1\n",
    "    gandalf_winning_spells += 0\n",
    "    winning_strike.append(\"Saruman\")\n",
    "\n",
    "\n",
    "#Final Results\n",
    "print(gandalf_winning_spells)\n",
    "print(saruman_winning_spells)\n",
    "print(winning_strike)\n",
    "\n",
    "for elem in winning_strike:\n",
    "    if winning_strike.count(elem) > 3:\n",
    "        print(elem)\n",
    "        break\n",
    "\n",
    "print(\"Gandalf has won the battle\")\n",
    "\n",
    "    "
   ]
  },
  {
   "cell_type": "markdown",
   "metadata": {},
   "source": [
    "#### 5. Find the average spell power of Gandalf and Saruman. "
   ]
  },
  {
   "cell_type": "code",
   "execution_count": 13,
   "metadata": {},
   "outputs": [
    {
     "name": "stdout",
     "output_type": "stream",
     "text": [
      "The average spell power for Saruman is 39.0\n",
      "The average spell power for Saruman is 30.5\n"
     ]
    }
   ],
   "source": [
    "#Average Power spell in Gandalf \n",
    "avg_spell_gandalf = (sum(gandalf_power)/len(gandalf_power))\n",
    "print(\"The average spell power for Saruman is\", avg_spell_gandalf)\n",
    "avg_spell_saruman = (sum(saruman_power)/len(saruman_power))\n",
    "print(\"The average spell power for Saruman is\", avg_spell_saruman)"
   ]
  },
  {
   "cell_type": "markdown",
   "metadata": {},
   "source": [
    "#### 6. Find the standard deviation of the spell power of Gandalf and Saruman. "
   ]
  },
  {
   "cell_type": "code",
   "execution_count": 17,
   "metadata": {},
   "outputs": [
    {
     "name": "stdout",
     "output_type": "stream",
     "text": [
      "The standard deviation of the sorcerers spells is 15.927570436196476\n"
     ]
    }
   ],
   "source": [
    "import statistics \n",
    "std_dev = statistics.pstdev([50, 40, 40, 10, 50, 10, 40, 50, 50, 50,45, 45, 25, 50, 25, 40, 10, 45, 10, 10])\n",
    "print(\"The standard deviation of the sorcerers spells is\", std_dev)"
   ]
  },
  {
   "cell_type": "code",
   "execution_count": null,
   "metadata": {},
   "outputs": [],
   "source": []
  }
 ],
 "metadata": {
  "kernelspec": {
   "display_name": "Python 3",
   "language": "python",
   "name": "python3"
  },
  "language_info": {
   "codemirror_mode": {
    "name": "ipython",
    "version": 3
   },
   "file_extension": ".py",
   "mimetype": "text/x-python",
   "name": "python",
   "nbconvert_exporter": "python",
   "pygments_lexer": "ipython3",
   "version": "3.8.2"
  }
 },
 "nbformat": 4,
 "nbformat_minor": 2
}
