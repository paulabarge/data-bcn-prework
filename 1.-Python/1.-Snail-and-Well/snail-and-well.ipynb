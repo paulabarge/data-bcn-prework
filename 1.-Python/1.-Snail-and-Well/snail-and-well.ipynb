{
 "cells": [
  {
   "cell_type": "markdown",
   "metadata": {},
   "source": [
    "<img src=\"https://bit.ly/2VnXWr2\" width=\"100\" align=\"left\">"
   ]
  },
  {
   "cell_type": "markdown",
   "metadata": {},
   "source": [
    "# The Snail and the Well\n",
    "\n",
    "A snail falls at the bottom of a 125 cm well. Each day the snail rises 30 cm. But at night, while sleeping, slides 20 cm because the walls are wet. How many days does it take for the snail to escape the well?\n",
    "\n",
    "**Hint**: The snail gets out of the well when it surpasses the 125cm of height.\n",
    "\n",
    "## Tools\n",
    "\n",
    "1. Loop: **while**\n",
    "2. Conditional statements: **if-else**\n",
    "3. Function: **print()**\n",
    "\n",
    "## Tasks\n",
    "\n",
    "#### 1. Assign the challenge data to variables with representative names: `well_height`, `daily_distance`, `nightly_distance` and `snail_position`."
   ]
  },
  {
   "cell_type": "code",
   "execution_count": 12,
   "metadata": {},
   "outputs": [],
   "source": [
    "well_height = 125\n",
    "daily_distance = 30\n",
    "nightly_distance = 20 \n",
    "snail_position = 0"
   ]
  },
  {
   "cell_type": "markdown",
   "metadata": {},
   "source": [
    "#### 2. Create a variable `days` to keep count of the days that pass until the snail escapes the well. "
   ]
  },
  {
   "cell_type": "code",
   "execution_count": 13,
   "metadata": {},
   "outputs": [],
   "source": [
    "days = 0"
   ]
  },
  {
   "cell_type": "markdown",
   "metadata": {},
   "source": [
    "#### 3. Find the solution to the challenge using the variables defined above. "
   ]
  },
  {
   "cell_type": "code",
   "execution_count": 16,
   "metadata": {},
   "outputs": [],
   "source": [
    "#Defined variables\n",
    "well_height = 125\n",
    "daily_distance = 30\n",
    "nightly_distance = 20 \n",
    "snail_position = 0\n",
    "days = 0\n",
    "\n",
    "#If the snail position is less than the well height, it keeps rising 30 cm per day and sliding 20cm by night. Per each time that this happens, a day goes by. \n",
    "while well_height >= snail_position:\n",
    "    snail_position += (daily_distance - nightly_distance)\n",
    "    days += 1 "
   ]
  },
  {
   "cell_type": "markdown",
   "metadata": {},
   "source": [
    "#### 4. Print the solution."
   ]
  },
  {
   "cell_type": "code",
   "execution_count": 17,
   "metadata": {},
   "outputs": [
    {
     "name": "stdout",
     "output_type": "stream",
     "text": [
      "13\n"
     ]
    }
   ],
   "source": [
    "#Defined variables\n",
    "well_height = 125\n",
    "daily_distance = 30\n",
    "nightly_distance = 20 \n",
    "snail_position = 0\n",
    "days = 0\n",
    "\n",
    "#If the snail position is less than the well height, it keeps rising 30 cm per day and sliding 20cm by night. Per each time that this happens, a day goes by. \n",
    "while well_height >= snail_position:\n",
    "    snail_position += (daily_distance - nightly_distance)\n",
    "    days += 1 \n",
    "    \n",
    "#Solution\n",
    "print(days)"
   ]
  },
  {
   "cell_type": "markdown",
   "metadata": {},
   "source": [
    "## Bonus\n",
    "The distance traveled by the snail each day is now defined by a list.\n",
    "```\n",
    "advance_cm = [30, 21, 33, 77, 44, 45, 23, 45, 12, 34, 55]\n",
    "```\n",
    "On the first day, the snail rises 30cm but during the night it slides 20cm. On the second day, the snail rises 21cm but during the night it slides 20cm, and so on. \n",
    "\n",
    "#### 1. How many days does it take for the snail to escape the well?\n",
    "Follow the same guidelines as in the previous challenge.\n",
    "\n",
    "**Hint**: Remember that the snail gets out of the well when it surpasses the 125cm of height."
   ]
  },
  {
   "cell_type": "code",
   "execution_count": 8,
   "metadata": {},
   "outputs": [
    {
     "name": "stdout",
     "output_type": "stream",
     "text": [
      "11\n"
     ]
    }
   ],
   "source": [
    "#Defined variables\n",
    "well_height = 125\n",
    "advanced_cm = [30, 21, 33, 77, 44, 45, 23, 45, 12, 34, 55]\n",
    "nightly_distance = [] \n",
    "snail_position = 0\n",
    "days = 0\n",
    "\n",
    "for x in advanced_cm:\n",
    "    days += 1\n",
    "    nightly_distance.append(20)\n",
    "#Solution\n",
    "print(days)"
   ]
  },
  {
   "cell_type": "markdown",
   "metadata": {},
   "source": [
    "#### 2. What is its maximum displacement in one day? And its minimum? Calculate the displacement using only the travel distance of the days used to get out of the well. \n",
    "**Hint**: Remember that displacement means the total distance risen taking into account that the snail slides at night.  "
   ]
  },
  {
   "cell_type": "code",
   "execution_count": 18,
   "metadata": {},
   "outputs": [
    {
     "name": "stdout",
     "output_type": "stream",
     "text": [
      "[10, 1, 13, 57, 24, 25, 3, 25, -8, 14, 35]\n",
      "The maximum displacement is 57\n",
      "The minimum displacement is -8\n"
     ]
    }
   ],
   "source": [
    "#Defined variables\n",
    "well_height = 125\n",
    "advanced_cm = [30, 21, 33, 77, 44, 45, 23, 45, 12, 34, 55]\n",
    "nightly_distance = [] \n",
    "snail_position = 0\n",
    "days = 0\n",
    "\n",
    "for x in advanced_cm:\n",
    "    days += 1\n",
    "    nightly_distance.append(20)\n",
    "    \n",
    "#Solution\n",
    "daily_displacement = []\n",
    "zip_object = zip(advanced_cm, nightly_distance)\n",
    "for i,y in zip_object:\n",
    "    daily_displacement.append(i-y)\n",
    "\n",
    "print(daily_displacement)\n",
    "max_displacement = max(daily_displacement)        \n",
    "print(\"The maximum displacement is\", max_displacement)\n",
    "min_displacement = min(daily_displacement)\n",
    "print(\"The minimum displacement is\", min_displacement)"
   ]
  },
  {
   "cell_type": "markdown",
   "metadata": {},
   "source": [
    "#### 3. What is its average progress? Take into account the snail slides at night."
   ]
  },
  {
   "cell_type": "code",
   "execution_count": 7,
   "metadata": {},
   "outputs": [
    {
     "name": "stdout",
     "output_type": "stream",
     "text": [
      "The average progress of the snail is 18.09090909090909\n"
     ]
    }
   ],
   "source": [
    "average_progress= sum(daily_displacement)/len(daily_displacement)\n",
    "print(\"The average progress of the snail is\",average_progress)"
   ]
  },
  {
   "cell_type": "markdown",
   "metadata": {},
   "source": [
    "#### 4. What is the standard deviation of its displacement? Take into account the snail slides at night."
   ]
  },
  {
   "cell_type": "code",
   "execution_count": 11,
   "metadata": {},
   "outputs": [
    {
     "name": "stdout",
     "output_type": "stream",
     "text": [
      "The standard deviation of its displacement is 17.159437082600803\n"
     ]
    }
   ],
   "source": [
    "import statistics \n",
    "std_dev = statistics.pstdev([10, 1, 13, 57, 24, 25, 3, 25, -8, 14, 35])\n",
    "print (\"The standard deviation of its displacement is\",std_dev)"
   ]
  },
  {
   "cell_type": "code",
   "execution_count": null,
   "metadata": {},
   "outputs": [],
   "source": []
  }
 ],
 "metadata": {
  "kernelspec": {
   "display_name": "Python 3",
   "language": "python",
   "name": "python3"
  },
  "language_info": {
   "codemirror_mode": {
    "name": "ipython",
    "version": 3
   },
   "file_extension": ".py",
   "mimetype": "text/x-python",
   "name": "python",
   "nbconvert_exporter": "python",
   "pygments_lexer": "ipython3",
   "version": "3.8.2"
  }
 },
 "nbformat": 4,
 "nbformat_minor": 2
}
